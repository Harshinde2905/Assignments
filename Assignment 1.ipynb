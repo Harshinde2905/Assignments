{
 "cells": [
  {
   "cell_type": "raw",
   "metadata": {},
   "source": [
    "1. In the below elements which of them are values or an expression? eg:- values can be integer or string and expressions will be mathematical operators.\n",
    "*\n",
    "'hello'\n",
    "-87.8\n",
    "-\n",
    "/\n",
    "+\n",
    "6\n",
    "-----------------------------------------------------\n",
    "Answer:-\n",
    "\n",
    "(*)                 - Expression   \n",
    "'hello'           - Value    \n",
    "-87.8             - Value    \n",
    "(-)                 - Expression   \n",
    "/                 - Expression   \n",
    "(+)                 - Expression   \n",
    "6                 - Value   "
   ]
  },
  {
   "cell_type": "raw",
   "metadata": {},
   "source": [
    "2. What is the difference between string and variable?\n",
    "\n",
    "Answer:-\n",
    "String: It is a character representation used in conveying text information. String is passed with single or double quotes. Some operations we can perform on string are changing the case, splitting, finding length of string.\n",
    "\n",
    "Variable: Variable is character which can store data in it. String is the data we can store in a variable. Operations are performed on these variables to get desired output."
   ]
  },
  {
   "cell_type": "raw",
   "metadata": {},
   "source": [
    "3. Describe three different data types.\n",
    "\n",
    "Answer:-\n",
    "    1) Int - It is used  for whole number without any fractions. Various mathematical operations can be done on these like addition,substraction,division,multiplication.  \n",
    "    2) Float - It is used for decimal numbers.Various mathematical operations can be done on these like addition,substraction,division,multiplication.  \n",
    "    3) String - It is used for text data. Various operations like concatenation,split,case changes etc can be done.  \n",
    "    4) Boolean - It is used for storing decisions like True or False.  \n",
    "    5) List - It is used to contain different values of differnt types like int,float,string.it is represented by square [] brackets.   \n"
   ]
  },
  {
   "cell_type": "raw",
   "metadata": {},
   "source": [
    "4. What is an expression made up of? What do all expressions do?\n",
    "\n",
    "Answer:-\n",
    "An expression is made up of literals or variables and operators. It is used to perform some \n",
    "operation on the given variables based on the operators. E.g to add 2 numbers, we can write\n",
    "an expression a+b . Here a and b are variables and + is an operator. Similarly, different \n",
    "kind of operations can be done using expressions. These are the basic instructions which computer\n",
    "can process.\n"
   ]
  },
  {
   "cell_type": "raw",
   "metadata": {},
   "source": [
    "5. This assignment statements, like spam = 10. What is the difference between an\n",
    "expression and a statement?\n",
    "\n",
    "Answer:-\n",
    "An expression is used to perform certain action based on operator and variables and produces\n",
    "the results. Statement  does not do any calculations. Here spam = 10 is just a statement where spam \n",
    "will be 10. it does not evaluate any thing."
   ]
  },
  {
   "cell_type": "raw",
   "metadata": {},
   "source": [
    "6. After running the following code, what does the variable bacon contain?\n",
    "bacon = 22\n",
    "bacon + 1\n",
    "\n",
    "Answer:-\n",
    "    bacon will still be 22 as we are not assigning back bacon +1 to bacon so it wont affect the original\n",
    "value"
   ]
  },
  {
   "cell_type": "raw",
   "metadata": {},
   "source": [
    "7. What should the values of the following two terms be?\n",
    "'spam' + 'spamspam'   \n",
    "'spam' * 3\n",
    "\n",
    "Answer:-\n",
    "spamspamspam\n",
    "spamspamspam"
   ]
  },
  {
   "cell_type": "raw",
   "metadata": {},
   "source": [
    "8. Why is eggs a valid variable name while 100 is invalid?\n",
    "\n",
    "Answer:-\n",
    "As per the python rules, variable name can consist of alphabets, numbers and underscore.\n",
    "and it should begin with either aplhabets or underscore.\n",
    "So eggs is valid name as it begin with alphabet e while 100 is invalid as it begins with number"
   ]
  },
  {
   "cell_type": "raw",
   "metadata": {},
   "source": [
    "9. What three functions can be used to get the integer, floating-point number, or string\n",
    "version of a value?\n",
    "\n",
    "Answer:-\n",
    "    int() - is used to convert the value to integer  \n",
    "    float() - is used to convert the value to float  \n",
    "    str() - is used to convert the value to string.  "
   ]
  },
  {
   "cell_type": "raw",
   "metadata": {},
   "source": [
    "10. Why does this expression cause an error? How can you fix it?\n",
    "'I have eaten' + 99 + 'burritos.'\n",
    "\n",
    "Answer:-\n",
    "Error has occured as we cannot add strings and integers, it can be avoided by conerting 99 into string using quotes.\n",
    "'I have eaten' + '99' + 'burritos.'\n",
    "or\n",
    "\"I have eaten 99 burritos.\""
   ]
  }
 ],
 "metadata": {
  "kernelspec": {
   "display_name": "Python 3",
   "language": "python",
   "name": "python3"
  },
  "language_info": {
   "codemirror_mode": {
    "name": "ipython",
    "version": 3
   },
   "file_extension": ".py",
   "mimetype": "text/x-python",
   "name": "python",
   "nbconvert_exporter": "python",
   "pygments_lexer": "ipython3",
   "version": "3.8.5"
  }
 },
 "nbformat": 4,
 "nbformat_minor": 4
}
